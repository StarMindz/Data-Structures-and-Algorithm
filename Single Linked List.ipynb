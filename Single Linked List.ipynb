{
  "nbformat": 4,
  "nbformat_minor": 0,
  "metadata": {
    "colab": {
      "name": "Untitled8.ipynb",
      "provenance": [],
      "authorship_tag": "ABX9TyMmEIx5zsUIyvMscOAAOawc",
      "include_colab_link": true
    },
    "kernelspec": {
      "name": "python3",
      "display_name": "Python 3"
    },
    "language_info": {
      "name": "python"
    }
  },
  "cells": [
    {
      "cell_type": "markdown",
      "metadata": {
        "id": "view-in-github",
        "colab_type": "text"
      },
      "source": [
        "<a href=\"https://colab.research.google.com/github/StarMindz/Data-Structures-and-Algorithm/blob/main/Single%20Linked%20List.ipynb\" target=\"_parent\"><img src=\"https://colab.research.google.com/assets/colab-badge.svg\" alt=\"Open In Colab\"/></a>"
      ]
    },
    {
      "cell_type": "code",
      "execution_count": 46,
      "metadata": {
        "id": "jhYwdX4fNqEQ"
      },
      "outputs": [],
      "source": [
        "class Node:\n",
        "  def __init__ (self, data):\n",
        "    self.data = data\n",
        "    self.next = None\n",
        "\n",
        "class linkedList:\n",
        "  def __init__ (self, data=None):\n",
        "    self.count = 0\n",
        "    self.head = Node(data)\n",
        "    self.current = self.head\n",
        "\n",
        "  def addNode (self, data):\n",
        "    self.current.next = Node(data)\n",
        "    self.current = self.current.next\n",
        "    self.count+=1\n",
        "  \n",
        "  def __str__(self):\n",
        "    self.transverser = self.head.next\n",
        "    self.string = str(self.head.data)\n",
        "    while not self.transverser == None:\n",
        "      self.string+=\" -> \"+ str(self.transverser.data)\n",
        "      self.transverser = self.transverser.next\n",
        "    return self.string\n",
        "\n",
        "      \n",
        "    \n",
        "  \n",
        "    "
      ]
    },
    {
      "cell_type": "code",
      "source": [
        "list1 = linkedList()"
      ],
      "metadata": {
        "id": "CXn8-QBdPNAY"
      },
      "execution_count": 47,
      "outputs": []
    },
    {
      "cell_type": "code",
      "source": [
        "list1.addNode(4)\n",
        "list1.addNode(6)\n",
        "list1.addNode(4)\n",
        "list1.addNode(7)\n",
        "list1.addNode(8)\n",
        "list1.addNode(4)\n",
        "list1.addNode(2)\n",
        "list1.addNode(3)"
      ],
      "metadata": {
        "id": "HcBR8wWbPTD0"
      },
      "execution_count": 48,
      "outputs": []
    },
    {
      "cell_type": "code",
      "source": [
        "print(list1)"
      ],
      "metadata": {
        "colab": {
          "base_uri": "https://localhost:8080/"
        },
        "id": "3cpbXM-fPf7d",
        "outputId": "a3d4738e-f66b-4cfc-dd93-e61ff5d5946e"
      },
      "execution_count": 49,
      "outputs": [
        {
          "output_type": "stream",
          "name": "stdout",
          "text": [
            "<__main__.linkedList object at 0x7f5471015910>\n"
          ]
        }
      ]
    },
    {
      "cell_type": "code",
      "source": [
        "node1 =Node(2)\n",
        "node2 =Node(3)\n",
        "node3 =Node(4)\n",
        "node4 =Node(5)\n",
        "node5 =Node(6)"
      ],
      "metadata": {
        "id": "M6EWS393Sgnk"
      },
      "execution_count": null,
      "outputs": []
    },
    {
      "cell_type": "code",
      "source": [
        "node1.next = node2\n",
        "node2.next = node3\n",
        "node3.next = node4\n",
        "node4.next = node5"
      ],
      "metadata": {
        "id": "tuhenIElTY-C"
      },
      "execution_count": null,
      "outputs": []
    },
    {
      "cell_type": "code",
      "source": [
        "list1.head.next.next.next.data"
      ],
      "metadata": {
        "id": "pNNXzbAvT2YT",
        "colab": {
          "base_uri": "https://localhost:8080/"
        },
        "outputId": "9cbe3dc6-ac3a-4998-8875-90a2c9c78bc0"
      },
      "execution_count": 62,
      "outputs": [
        {
          "output_type": "execute_result",
          "data": {
            "text/plain": [
              "4"
            ]
          },
          "metadata": {},
          "execution_count": 62
        }
      ]
    },
    {
      "cell_type": "code",
      "source": [
        ""
      ],
      "metadata": {
        "id": "2wfwJ1GbT3zg"
      },
      "execution_count": null,
      "outputs": []
    }
  ]
}